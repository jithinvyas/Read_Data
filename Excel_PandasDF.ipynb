{
 "cells": [
  {
   "cell_type": "markdown",
   "metadata": {},
   "source": [
    "# Creating a dataframe using Excel files"
   ]
  },
  {
   "cell_type": "raw",
   "metadata": {},
   "source": [
    "Let’s see how to read excel files to Pandas dataframe objects using Pandas.\n",
    "\n",
    "Code #1 : Read an excel file using read_excel() method of pandas."
   ]
  },
  {
   "cell_type": "code",
   "execution_count": 1,
   "metadata": {},
   "outputs": [],
   "source": [
    "# import pandas lib as pd \n",
    "import pandas as pd "
   ]
  },
  {
   "cell_type": "code",
   "execution_count": 2,
   "metadata": {},
   "outputs": [],
   "source": [
    "# read by default 1st sheet of an excel file \n",
    "dataframe1 = pd.read_excel('Sample.xlsx') \n",
    "  "
   ]
  },
  {
   "cell_type": "code",
   "execution_count": 3,
   "metadata": {},
   "outputs": [
    {
     "data": {
      "text/html": [
       "<div>\n",
       "<style scoped>\n",
       "    .dataframe tbody tr th:only-of-type {\n",
       "        vertical-align: middle;\n",
       "    }\n",
       "\n",
       "    .dataframe tbody tr th {\n",
       "        vertical-align: top;\n",
       "    }\n",
       "\n",
       "    .dataframe thead th {\n",
       "        text-align: right;\n",
       "    }\n",
       "</style>\n",
       "<table border=\"1\" class=\"dataframe\">\n",
       "  <thead>\n",
       "    <tr style=\"text-align: right;\">\n",
       "      <th></th>\n",
       "      <th>Unnamed: 0</th>\n",
       "      <th>Name</th>\n",
       "      <th>Age</th>\n",
       "      <th>Stream</th>\n",
       "      <th>Percentage</th>\n",
       "    </tr>\n",
       "  </thead>\n",
       "  <tbody>\n",
       "    <tr>\n",
       "      <th>0</th>\n",
       "      <td>0</td>\n",
       "      <td>Ankit</td>\n",
       "      <td>21</td>\n",
       "      <td>ETC</td>\n",
       "      <td>67</td>\n",
       "    </tr>\n",
       "    <tr>\n",
       "      <th>1</th>\n",
       "      <td>1</td>\n",
       "      <td>Rahul</td>\n",
       "      <td>21</td>\n",
       "      <td>CSE</td>\n",
       "      <td>76</td>\n",
       "    </tr>\n",
       "    <tr>\n",
       "      <th>2</th>\n",
       "      <td>2</td>\n",
       "      <td>Anurag</td>\n",
       "      <td>22</td>\n",
       "      <td>MECH</td>\n",
       "      <td>69</td>\n",
       "    </tr>\n",
       "    <tr>\n",
       "      <th>3</th>\n",
       "      <td>3</td>\n",
       "      <td>Anjali</td>\n",
       "      <td>20</td>\n",
       "      <td>IT</td>\n",
       "      <td>73</td>\n",
       "    </tr>\n",
       "    <tr>\n",
       "      <th>4</th>\n",
       "      <td>4</td>\n",
       "      <td>Pooja</td>\n",
       "      <td>19</td>\n",
       "      <td>CIVIL</td>\n",
       "      <td>79</td>\n",
       "    </tr>\n",
       "  </tbody>\n",
       "</table>\n",
       "</div>"
      ],
      "text/plain": [
       "   Unnamed: 0    Name  Age  Stream  Percentage\n",
       "0           0   Ankit    21    ETC          67\n",
       "1           1   Rahul    21    CSE          76\n",
       "2           2  Anurag    22   MECH          69\n",
       "3           3  Anjali    20     IT          73\n",
       "4           4   Pooja    19  CIVIL          79"
      ]
     },
     "execution_count": 3,
     "metadata": {},
     "output_type": "execute_result"
    }
   ],
   "source": [
    "dataframe1"
   ]
  },
  {
   "cell_type": "code",
   "execution_count": 4,
   "metadata": {},
   "outputs": [
    {
     "name": "stdout",
     "output_type": "stream",
     "text": [
      "   Unnamed: 0    Name  Age  Stream  Percentage\n",
      "0           0   Ankit    21    ETC          67\n",
      "1           1   Rahul    21    CSE          76\n",
      "2           2  Anurag    22   MECH          69\n",
      "3           3  Anjali    20     IT          73\n",
      "4           4   Pooja    19  CIVIL          79\n"
     ]
    }
   ],
   "source": [
    "print(dataframe1)"
   ]
  },
  {
   "cell_type": "raw",
   "metadata": {},
   "source": [
    "Code #2 : Reading Specific Sheets using 'sheet_name' of read_excel() method."
   ]
  },
  {
   "cell_type": "code",
   "execution_count": 5,
   "metadata": {},
   "outputs": [],
   "source": [
    "# read 2nd sheet of an excel file \n",
    "dataframe2 = pd.read_excel('Sample.xlsx', sheet_name = 1)"
   ]
  },
  {
   "cell_type": "code",
   "execution_count": 6,
   "metadata": {},
   "outputs": [
    {
     "data": {
      "text/html": [
       "<div>\n",
       "<style scoped>\n",
       "    .dataframe tbody tr th:only-of-type {\n",
       "        vertical-align: middle;\n",
       "    }\n",
       "\n",
       "    .dataframe tbody tr th {\n",
       "        vertical-align: top;\n",
       "    }\n",
       "\n",
       "    .dataframe thead th {\n",
       "        text-align: right;\n",
       "    }\n",
       "</style>\n",
       "<table border=\"1\" class=\"dataframe\">\n",
       "  <thead>\n",
       "    <tr style=\"text-align: right;\">\n",
       "      <th></th>\n",
       "      <th>Unnamed: 0</th>\n",
       "      <th>Name</th>\n",
       "      <th>Age</th>\n",
       "      <th>Stream</th>\n",
       "      <th>Percentage</th>\n",
       "    </tr>\n",
       "  </thead>\n",
       "  <tbody>\n",
       "    <tr>\n",
       "      <th>0</th>\n",
       "      <td>0</td>\n",
       "      <td>Sonal</td>\n",
       "      <td>21</td>\n",
       "      <td>ETC</td>\n",
       "      <td>67</td>\n",
       "    </tr>\n",
       "    <tr>\n",
       "      <th>1</th>\n",
       "      <td>1</td>\n",
       "      <td>Aniket</td>\n",
       "      <td>21</td>\n",
       "      <td>EE</td>\n",
       "      <td>76</td>\n",
       "    </tr>\n",
       "    <tr>\n",
       "      <th>2</th>\n",
       "      <td>2</td>\n",
       "      <td>Anurag</td>\n",
       "      <td>22</td>\n",
       "      <td>MECH</td>\n",
       "      <td>69</td>\n",
       "    </tr>\n",
       "    <tr>\n",
       "      <th>3</th>\n",
       "      <td>3</td>\n",
       "      <td>Anjali</td>\n",
       "      <td>20</td>\n",
       "      <td>IT</td>\n",
       "      <td>73</td>\n",
       "    </tr>\n",
       "    <tr>\n",
       "      <th>4</th>\n",
       "      <td>4</td>\n",
       "      <td>Priya</td>\n",
       "      <td>19</td>\n",
       "      <td>CIVIL</td>\n",
       "      <td>79</td>\n",
       "    </tr>\n",
       "  </tbody>\n",
       "</table>\n",
       "</div>"
      ],
      "text/plain": [
       "   Unnamed: 0    Name  Age  Stream  Percentage\n",
       "0           0   Sonal    21    ETC          67\n",
       "1           1  Aniket    21     EE          76\n",
       "2           2  Anurag    22   MECH          69\n",
       "3           3  Anjali    20     IT          73\n",
       "4           4   Priya    19  CIVIL          79"
      ]
     },
     "execution_count": 6,
     "metadata": {},
     "output_type": "execute_result"
    }
   ],
   "source": [
    "dataframe2"
   ]
  },
  {
   "cell_type": "raw",
   "metadata": {},
   "source": [
    "Code #3 : Reading Specific Columns using 'usecols' parameter of read_excel() method.\n",
    "\n"
   ]
  },
  {
   "cell_type": "code",
   "execution_count": 7,
   "metadata": {},
   "outputs": [],
   "source": [
    "require_cols = [0,1,3] \n",
    "  \n",
    "# only read specific columns from an excel file \n",
    "required_df = pd.read_excel('Sample.xlsx', usecols = require_cols)"
   ]
  },
  {
   "cell_type": "code",
   "execution_count": 8,
   "metadata": {},
   "outputs": [
    {
     "data": {
      "text/html": [
       "<div>\n",
       "<style scoped>\n",
       "    .dataframe tbody tr th:only-of-type {\n",
       "        vertical-align: middle;\n",
       "    }\n",
       "\n",
       "    .dataframe tbody tr th {\n",
       "        vertical-align: top;\n",
       "    }\n",
       "\n",
       "    .dataframe thead th {\n",
       "        text-align: right;\n",
       "    }\n",
       "</style>\n",
       "<table border=\"1\" class=\"dataframe\">\n",
       "  <thead>\n",
       "    <tr style=\"text-align: right;\">\n",
       "      <th></th>\n",
       "      <th>Unnamed: 0</th>\n",
       "      <th>Name</th>\n",
       "      <th>Stream</th>\n",
       "    </tr>\n",
       "  </thead>\n",
       "  <tbody>\n",
       "    <tr>\n",
       "      <th>0</th>\n",
       "      <td>0</td>\n",
       "      <td>Ankit</td>\n",
       "      <td>ETC</td>\n",
       "    </tr>\n",
       "    <tr>\n",
       "      <th>1</th>\n",
       "      <td>1</td>\n",
       "      <td>Rahul</td>\n",
       "      <td>CSE</td>\n",
       "    </tr>\n",
       "    <tr>\n",
       "      <th>2</th>\n",
       "      <td>2</td>\n",
       "      <td>Anurag</td>\n",
       "      <td>MECH</td>\n",
       "    </tr>\n",
       "    <tr>\n",
       "      <th>3</th>\n",
       "      <td>3</td>\n",
       "      <td>Anjali</td>\n",
       "      <td>IT</td>\n",
       "    </tr>\n",
       "    <tr>\n",
       "      <th>4</th>\n",
       "      <td>4</td>\n",
       "      <td>Pooja</td>\n",
       "      <td>CIVIL</td>\n",
       "    </tr>\n",
       "  </tbody>\n",
       "</table>\n",
       "</div>"
      ],
      "text/plain": [
       "   Unnamed: 0    Name Stream\n",
       "0           0   Ankit    ETC\n",
       "1           1   Rahul    CSE\n",
       "2           2  Anurag   MECH\n",
       "3           3  Anjali     IT\n",
       "4           4   Pooja  CIVIL"
      ]
     },
     "execution_count": 8,
     "metadata": {},
     "output_type": "execute_result"
    }
   ],
   "source": [
    "required_df"
   ]
  },
  {
   "cell_type": "raw",
   "metadata": {},
   "source": [
    "Code #4 : Handling missing data using 'na_values' parameter of the read_excel() method."
   ]
  },
  {
   "cell_type": "code",
   "execution_count": 9,
   "metadata": {},
   "outputs": [],
   "source": [
    "# Handling missing values of 3rd sheet of an excel file. \n",
    "dataframe = pd.read_excel('Sample.xlsx', na_values = \"Missing\", \n",
    "                                                    sheet_name = 2)"
   ]
  },
  {
   "cell_type": "code",
   "execution_count": 10,
   "metadata": {},
   "outputs": [
    {
     "data": {
      "text/html": [
       "<div>\n",
       "<style scoped>\n",
       "    .dataframe tbody tr th:only-of-type {\n",
       "        vertical-align: middle;\n",
       "    }\n",
       "\n",
       "    .dataframe tbody tr th {\n",
       "        vertical-align: top;\n",
       "    }\n",
       "\n",
       "    .dataframe thead th {\n",
       "        text-align: right;\n",
       "    }\n",
       "</style>\n",
       "<table border=\"1\" class=\"dataframe\">\n",
       "  <thead>\n",
       "    <tr style=\"text-align: right;\">\n",
       "      <th></th>\n",
       "      <th>Unnamed: 0</th>\n",
       "      <th>Name</th>\n",
       "      <th>Age</th>\n",
       "      <th>Stream</th>\n",
       "      <th>Percentage</th>\n",
       "    </tr>\n",
       "  </thead>\n",
       "  <tbody>\n",
       "    <tr>\n",
       "      <th>0</th>\n",
       "      <td>0</td>\n",
       "      <td>Sonal</td>\n",
       "      <td>21</td>\n",
       "      <td>ETC</td>\n",
       "      <td>67</td>\n",
       "    </tr>\n",
       "    <tr>\n",
       "      <th>1</th>\n",
       "      <td>1</td>\n",
       "      <td>Aniket</td>\n",
       "      <td>21</td>\n",
       "      <td>EE</td>\n",
       "      <td>76</td>\n",
       "    </tr>\n",
       "    <tr>\n",
       "      <th>2</th>\n",
       "      <td>2</td>\n",
       "      <td>Anurag</td>\n",
       "      <td>Nan</td>\n",
       "      <td>MECH</td>\n",
       "      <td>69</td>\n",
       "    </tr>\n",
       "    <tr>\n",
       "      <th>3</th>\n",
       "      <td>3</td>\n",
       "      <td>Anjali</td>\n",
       "      <td>Nan</td>\n",
       "      <td>IT</td>\n",
       "      <td>73</td>\n",
       "    </tr>\n",
       "    <tr>\n",
       "      <th>4</th>\n",
       "      <td>4</td>\n",
       "      <td>Priya</td>\n",
       "      <td>19</td>\n",
       "      <td>CIVIL</td>\n",
       "      <td>79</td>\n",
       "    </tr>\n",
       "  </tbody>\n",
       "</table>\n",
       "</div>"
      ],
      "text/plain": [
       "   Unnamed: 0    Name Age  Stream  Percentage\n",
       "0           0   Sonal   21    ETC          67\n",
       "1           1  Aniket   21     EE          76\n",
       "2           2  Anurag  Nan   MECH          69\n",
       "3           3  Anjali  Nan     IT          73\n",
       "4           4   Priya   19  CIVIL          79"
      ]
     },
     "execution_count": 10,
     "metadata": {},
     "output_type": "execute_result"
    }
   ],
   "source": [
    "dataframe"
   ]
  },
  {
   "cell_type": "raw",
   "metadata": {},
   "source": [
    "Code #5 : Skip starting rows when Reading an Excel File using 'skiprows' parameter of read_excel() method."
   ]
  },
  {
   "cell_type": "code",
   "execution_count": 11,
   "metadata": {},
   "outputs": [],
   "source": [
    "# read 2nd sheet of an excel file after \n",
    "# skipping starting two rows  \n",
    "L=[0,2,3]\n",
    "df = pd.read_excel('Sample.xlsx', sheet_name = 1, skiprows = L) "
   ]
  },
  {
   "cell_type": "code",
   "execution_count": 12,
   "metadata": {},
   "outputs": [
    {
     "data": {
      "text/html": [
       "<div>\n",
       "<style scoped>\n",
       "    .dataframe tbody tr th:only-of-type {\n",
       "        vertical-align: middle;\n",
       "    }\n",
       "\n",
       "    .dataframe tbody tr th {\n",
       "        vertical-align: top;\n",
       "    }\n",
       "\n",
       "    .dataframe thead th {\n",
       "        text-align: right;\n",
       "    }\n",
       "</style>\n",
       "<table border=\"1\" class=\"dataframe\">\n",
       "  <thead>\n",
       "    <tr style=\"text-align: right;\">\n",
       "      <th></th>\n",
       "      <th>0</th>\n",
       "      <th>Sonal</th>\n",
       "      <th>21</th>\n",
       "      <th>ETC</th>\n",
       "      <th>67</th>\n",
       "    </tr>\n",
       "  </thead>\n",
       "  <tbody>\n",
       "    <tr>\n",
       "      <th>0</th>\n",
       "      <td>3</td>\n",
       "      <td>Anjali</td>\n",
       "      <td>20</td>\n",
       "      <td>IT</td>\n",
       "      <td>73</td>\n",
       "    </tr>\n",
       "    <tr>\n",
       "      <th>1</th>\n",
       "      <td>4</td>\n",
       "      <td>Priya</td>\n",
       "      <td>19</td>\n",
       "      <td>CIVIL</td>\n",
       "      <td>79</td>\n",
       "    </tr>\n",
       "  </tbody>\n",
       "</table>\n",
       "</div>"
      ],
      "text/plain": [
       "   0   Sonal  21    ETC  67\n",
       "0  3  Anjali  20     IT  73\n",
       "1  4   Priya  19  CIVIL  79"
      ]
     },
     "execution_count": 12,
     "metadata": {},
     "output_type": "execute_result"
    }
   ],
   "source": [
    "df"
   ]
  },
  {
   "cell_type": "raw",
   "metadata": {},
   "source": [
    "Code #6 : Set the header to any row and start reading from that row, using 'header' parameter of the read_excel() method."
   ]
  },
  {
   "cell_type": "code",
   "execution_count": 13,
   "metadata": {},
   "outputs": [],
   "source": [
    "# setting the 3rd row as header. \n",
    "df1 = pd.read_excel('Sample.xlsx', sheet_name = 1, header = 2)"
   ]
  },
  {
   "cell_type": "code",
   "execution_count": 14,
   "metadata": {},
   "outputs": [
    {
     "data": {
      "text/html": [
       "<div>\n",
       "<style scoped>\n",
       "    .dataframe tbody tr th:only-of-type {\n",
       "        vertical-align: middle;\n",
       "    }\n",
       "\n",
       "    .dataframe tbody tr th {\n",
       "        vertical-align: top;\n",
       "    }\n",
       "\n",
       "    .dataframe thead th {\n",
       "        text-align: right;\n",
       "    }\n",
       "</style>\n",
       "<table border=\"1\" class=\"dataframe\">\n",
       "  <thead>\n",
       "    <tr style=\"text-align: right;\">\n",
       "      <th></th>\n",
       "      <th>1</th>\n",
       "      <th>Aniket</th>\n",
       "      <th>21</th>\n",
       "      <th>EE</th>\n",
       "      <th>76</th>\n",
       "    </tr>\n",
       "  </thead>\n",
       "  <tbody>\n",
       "    <tr>\n",
       "      <th>0</th>\n",
       "      <td>2</td>\n",
       "      <td>Anurag</td>\n",
       "      <td>22</td>\n",
       "      <td>MECH</td>\n",
       "      <td>69</td>\n",
       "    </tr>\n",
       "    <tr>\n",
       "      <th>1</th>\n",
       "      <td>3</td>\n",
       "      <td>Anjali</td>\n",
       "      <td>20</td>\n",
       "      <td>IT</td>\n",
       "      <td>73</td>\n",
       "    </tr>\n",
       "    <tr>\n",
       "      <th>2</th>\n",
       "      <td>4</td>\n",
       "      <td>Priya</td>\n",
       "      <td>19</td>\n",
       "      <td>CIVIL</td>\n",
       "      <td>79</td>\n",
       "    </tr>\n",
       "  </tbody>\n",
       "</table>\n",
       "</div>"
      ],
      "text/plain": [
       "   1  Aniket  21     EE  76\n",
       "0  2  Anurag  22   MECH  69\n",
       "1  3  Anjali  20     IT  73\n",
       "2  4   Priya  19  CIVIL  79"
      ]
     },
     "execution_count": 14,
     "metadata": {},
     "output_type": "execute_result"
    }
   ],
   "source": [
    "df1"
   ]
  },
  {
   "cell_type": "raw",
   "metadata": {},
   "source": [
    "Code #7 : Reading Multiple Excel Sheets using 'sheet_name' parameter of the read_excel()method."
   ]
  },
  {
   "cell_type": "code",
   "execution_count": 20,
   "metadata": {},
   "outputs": [],
   "source": [
    "# read both 1st and 2nd sheet. \n",
    "df2 = pd.read_excel('Sample.xlsx', na_values = \"Mssing\", \n",
    "                                        sheet_name =[0, 1])"
   ]
  },
  {
   "cell_type": "code",
   "execution_count": 21,
   "metadata": {},
   "outputs": [
    {
     "data": {
      "text/plain": [
       "{0:    Unnamed: 0    Name  Age  Stream  Percentage\n",
       " 0           0   Ankit    21    ETC          67\n",
       " 1           1   Rahul    21    CSE          76\n",
       " 2           2  Anurag    22   MECH          69\n",
       " 3           3  Anjali    20     IT          73\n",
       " 4           4   Pooja    19  CIVIL          79,\n",
       " 1:    Unnamed: 0    Name  Age  Stream  Percentage\n",
       " 0           0   Sonal    21    ETC          67\n",
       " 1           1  Aniket    21     EE          76\n",
       " 2           2  Anurag    22   MECH          69\n",
       " 3           3  Anjali    20     IT          73\n",
       " 4           4   Priya    19  CIVIL          79}"
      ]
     },
     "execution_count": 21,
     "metadata": {},
     "output_type": "execute_result"
    }
   ],
   "source": [
    "df2"
   ]
  },
  {
   "cell_type": "raw",
   "metadata": {},
   "source": [
    "Code #8 : Reading all Sheets of the excel file together using 'sheet_name' parameter of the read_excel() method."
   ]
  },
  {
   "cell_type": "code",
   "execution_count": 22,
   "metadata": {},
   "outputs": [],
   "source": [
    "# read all sheets together. \n",
    "all_sheets_df = pd.read_excel('Sample.xlsx', na_values = \"Missing\", \n",
    "                                                     sheet_name = None) \n",
    "  "
   ]
  },
  {
   "cell_type": "code",
   "execution_count": 23,
   "metadata": {},
   "outputs": [
    {
     "data": {
      "text/plain": [
       "{'Sheet1':    Unnamed: 0    Name  Age  Stream  Percentage\n",
       " 0           0   Ankit    21    ETC          67\n",
       " 1           1   Rahul    21    CSE          76\n",
       " 2           2  Anurag    22   MECH          69\n",
       " 3           3  Anjali    20     IT          73\n",
       " 4           4   Pooja    19  CIVIL          79,\n",
       " 'Sheet2':    Unnamed: 0    Name  Age  Stream  Percentage\n",
       " 0           0   Sonal    21    ETC          67\n",
       " 1           1  Aniket    21     EE          76\n",
       " 2           2  Anurag    22   MECH          69\n",
       " 3           3  Anjali    20     IT          73\n",
       " 4           4   Priya    19  CIVIL          79,\n",
       " 'Sheet3':    Unnamed: 0    Name Age  Stream  Percentage\n",
       " 0           0   Sonal   21    ETC          67\n",
       " 1           1  Aniket   21     EE          76\n",
       " 2           2  Anurag  Nan   MECH          69\n",
       " 3           3  Anjali  Nan     IT          73\n",
       " 4           4   Priya   19  CIVIL          79}"
      ]
     },
     "execution_count": 23,
     "metadata": {},
     "output_type": "execute_result"
    }
   ],
   "source": [
    "all_sheets_df"
   ]
  },
  {
   "cell_type": "code",
   "execution_count": null,
   "metadata": {},
   "outputs": [],
   "source": []
  }
 ],
 "metadata": {
  "kernelspec": {
   "display_name": "Python 3",
   "language": "python",
   "name": "python3"
  },
  "language_info": {
   "codemirror_mode": {
    "name": "ipython",
    "version": 3
   },
   "file_extension": ".py",
   "mimetype": "text/x-python",
   "name": "python",
   "nbconvert_exporter": "python",
   "pygments_lexer": "ipython3",
   "version": "3.8.5"
  }
 },
 "nbformat": 4,
 "nbformat_minor": 4
}
